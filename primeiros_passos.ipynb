{
 "cells": [
  {
   "cell_type": "markdown",
   "id": "703b1654",
   "metadata": {},
   "source": [
    "✳️ Introdução\n",
    "\n",
    "Neste módulo, vamos aprender os conceitos básicos da programação, como guardar informações, pedir dados ao usuário e tomar decisões com base em condições. Tudo isso de forma divertida e simples!\n",
    "📌 Conceitos abordados:\n",
    "\n",
    "Uso de variáveis com tipos: número inteiro, número decimal e texto (string).\n",
    "\n",
    "Como receber dados do teclado usando input().\n",
    "\n",
    "Como mostrar resultados na tela com print().\n",
    "\n",
    "Como fazer o computador tomar decisões usando if, else e elif."
   ]
  },
  {
   "cell_type": "markdown",
   "id": "04387100",
   "metadata": {},
   "source": [
    "🔢 Exemplo 1 – Guardando informações com variáveis"
   ]
  },
  {
   "cell_type": "code",
   "execution_count": 1,
   "id": "bf767568",
   "metadata": {},
   "outputs": [
    {
     "name": "stdout",
     "output_type": "stream",
     "text": [
      "Nome: João\n",
      "Idade: 9\n",
      "Altura: 1.35\n"
     ]
    }
   ],
   "source": [
    "# Guardando informações sobre uma pessoa\n",
    "nome = \"João\"\n",
    "idade = 9\n",
    "altura = 1.35\n",
    "\n",
    "print(\"Nome:\", nome)\n",
    "print(\"Idade:\", idade)\n",
    "print(\"Altura:\", altura)"
   ]
  },
  {
   "cell_type": "markdown",
   "id": "2ba9eec3",
   "metadata": {},
   "source": [
    "🧠 O que aprendemos aqui:\n",
    "\n",
    "nome, idade e altura são variáveis.\n",
    "\n",
    "Usamos print() para mostrar os valores."
   ]
  },
  {
   "cell_type": "markdown",
   "id": "a85b98db",
   "metadata": {},
   "source": [
    "🔡 Exemplo 2 – Pegando dados do usuário"
   ]
  },
  {
   "cell_type": "code",
   "execution_count": null,
   "id": "27f5196a",
   "metadata": {},
   "outputs": [
    {
     "name": "stdout",
     "output_type": "stream",
     "text": [
      "Olá, eu\n",
      "Você tem 2 anos.\n"
     ]
    }
   ],
   "source": [
    "# Pedindo informações para o usuário\n",
    "nome = input(\"Digite seu nome: \")\n",
    "idade = input(\"Digite sua idade: \")\n",
    "\n",
    "print(\"Olá,\", nome)\n",
    "print(\"Você tem\", idade, \"anos.\")"
   ]
  },
  {
   "cell_type": "markdown",
   "id": "1fa6e43b",
   "metadata": {},
   "source": [
    "🧠 O que aprendemos aqui:\n",
    "\n",
    "input() serve para ler algo que o usuário digita.\n",
    "\n",
    "idade ainda é tratada como texto (string), mesmo que o número seja digitado."
   ]
  },
  {
   "cell_type": "markdown",
   "id": "b70aa988",
   "metadata": {},
   "source": [
    "🔢 Exemplo 3 – Guardando informações de você!"
   ]
  },
  {
   "cell_type": "code",
   "execution_count": null,
   "id": "345e42f0",
   "metadata": {},
   "outputs": [],
   "source": [
    "# Vamos conhecer você!\n",
    "nome = input(\"Qual é o seu nome? \")\n",
    "idade = int(input(\"Quantos anos você tem? \"))\n",
    "\n",
    "# Agora vamos mostrar o que foi digitado\n",
    "print(\"Olá,\", nome, \"!\")\n",
    "print(\"Você tem\", idade, \"anos.\")\n"
   ]
  },
  {
   "cell_type": "markdown",
   "id": "303f7aeb",
   "metadata": {},
   "source": [
    "🧠 O que aprendemos aqui:\n",
    "\n",
    "input() serve para perguntar algo.\n",
    "\n",
    "int() transforma em número inteiro.\n",
    "\n",
    "print() mostra mensagens na tela."
   ]
  },
  {
   "cell_type": "markdown",
   "id": "33b07644",
   "metadata": {},
   "source": [
    "🔁 Exemplo 4 – Tomando decisões com if"
   ]
  },
  {
   "cell_type": "code",
   "execution_count": 3,
   "id": "a17fb9e2",
   "metadata": {},
   "outputs": [
    {
     "name": "stdout",
     "output_type": "stream",
     "text": [
      "Você já pode brincar sozinho no parque!\n"
     ]
    }
   ],
   "source": [
    "# Verificando se a pessoa pode brincar no parque sozinha\n",
    "idade = int(input(\"Digite sua idade: \"))\n",
    "\n",
    "if idade >= 10:\n",
    "    print(\"Você já pode brincar sozinho no parque!\")\n",
    "else:\n",
    "    print(\"Você ainda precisa de um responsável no parque.\")\n"
   ]
  },
  {
   "cell_type": "markdown",
   "id": "e4fc0e1c",
   "metadata": {},
   "source": [
    "🧠 O que aprendemos aqui:\n",
    "\n",
    "int() transforma o texto digitado em número.\n",
    "\n",
    "if serve para verificar condições.\n",
    "\n",
    "else é a outra opção quando a condição não é verdadeira."
   ]
  },
  {
   "cell_type": "markdown",
   "id": "9daaefde",
   "metadata": {},
   "source": [
    "🔁 Exemplo 5 – Qual sua cor Favorita?"
   ]
  },
  {
   "cell_type": "code",
   "execution_count": null,
   "id": "1d844b9c",
   "metadata": {},
   "outputs": [],
   "source": [
    "# Qual é a sua cor favorita?\n",
    "cor = input(\"Qual é sua cor favorita entre azul, vermelho e verde? (azul, vermelho, verde): \")\n",
    "\n",
    "# Vamos responder com base na escolha!\n",
    "if cor == \"azul\":\n",
    "    print(\"Azul é a cor do céu!\")\n",
    "elif cor == \"vermelho\":\n",
    "    print(\"Vermelho é a cor do fogo!\")\n",
    "elif cor == \"verde\":\n",
    "    print(\"Verde é a cor da floresta!\")\n",
    "else:\n",
    "    print(\"Essa cor é diferente, mas legal!\")\n"
   ]
  },
  {
   "cell_type": "markdown",
   "id": "3076a538",
   "metadata": {},
   "source": [
    "🧠 O que aprendemos aqui:\n",
    "\n",
    "if verifica se algo é verdadeiro.\n",
    "\n",
    "elif verifica outra opção.\n",
    "\n",
    "else é o “se não for nenhuma das anteriores”."
   ]
  },
  {
   "cell_type": "markdown",
   "id": "52cc1695",
   "metadata": {},
   "source": [
    "🔢 Exemplo 5 – Verificando se o número digitado é par ou ímpar"
   ]
  },
  {
   "cell_type": "code",
   "execution_count": null,
   "id": "073c65ae",
   "metadata": {},
   "outputs": [],
   "source": [
    "# Digite um número para testar\n",
    "numero = int(input(\"Digite um número: \"))\n",
    "\n",
    "# Agora vamos descobrir se é par ou ímpar\n",
    "if numero % 2 == 0:\n",
    "    print(\"Esse número é par!\")\n",
    "else:\n",
    "    print(\"Esse número é ímpar!\")\n"
   ]
  },
  {
   "cell_type": "markdown",
   "id": "6e006d38",
   "metadata": {},
   "source": [
    "🧠 O que aprendemos aqui:\n",
    "\n",
    "% é o sinal de resto da divisão.\n",
    "\n",
    "Se o resto for 0, é par. Se não, é ímpar."
   ]
  },
  {
   "cell_type": "markdown",
   "id": "1019c95d",
   "metadata": {},
   "source": [
    "🔀 Exemplo 6 – Usando várias condições com elif para descobrir a fase da sua vida"
   ]
  },
  {
   "cell_type": "code",
   "execution_count": null,
   "id": "de7c26d5",
   "metadata": {},
   "outputs": [],
   "source": [
    "# Descobrindo a fase da vida da pessoa\n",
    "idade = int(input(\"Digite sua idade: \"))\n",
    "\n",
    "if idade < 10:\n",
    "    print(\"Você é uma criança!\")\n",
    "elif idade < 18:\n",
    "    print(\"Você é um adolescente!\")\n",
    "else:\n",
    "    print(\"Você é um adulto!\")\n"
   ]
  },
  {
   "cell_type": "markdown",
   "id": "32c05e9a",
   "metadata": {},
   "source": [
    "🧠 O que aprendemos aqui:\n",
    "\n",
    "elif é usado para verificar mais de uma condição.\n",
    "\n",
    "O programa segue testando até encontrar a resposta certa."
   ]
  },
  {
   "cell_type": "markdown",
   "id": "64d645ac",
   "metadata": {},
   "source": [
    "🔢 Exemplo 7 – Guardando seu nome e verificando se é algum nome salvo"
   ]
  },
  {
   "cell_type": "code",
   "execution_count": null,
   "id": "66b5903f",
   "metadata": {},
   "outputs": [],
   "source": [
    "nome = input(\"Digite seu nome: \")\n",
    "\n",
    "if nome == \"Ana\":\n",
    "    print(\"Oi Ana! Que bom te ver de novo!\")\n",
    "elif nome == \"Pedro\":\n",
    "    print(\"Fala, Pedro! Preparado para o jogo?\")\n",
    "else:\n",
    "    print(\"Olá\", nome, \"! Seja bem-vindo!\")\n"
   ]
  },
  {
   "cell_type": "markdown",
   "id": "66b6f245",
   "metadata": {},
   "source": [
    "🧠 O que aprendemos aqui:\n",
    "\n",
    "O computador pode responder diferente para nomes específicos.\n",
    "\n",
    "O == significa “igual a”."
   ]
  },
  {
   "cell_type": "markdown",
   "id": "a9309d43",
   "metadata": {},
   "source": [
    "✅ Conclusão\n",
    "\n",
    "Esses são os primeiros passos para aprender a programar. Saber usar variáveis, ler dados do teclado e tomar decisões é essencial para criar joguinhos, calculadoras e muito mais!"
   ]
  }
 ],
 "metadata": {
  "kernelspec": {
   "display_name": ".venv (3.12.3)",
   "language": "python",
   "name": "python3"
  },
  "language_info": {
   "codemirror_mode": {
    "name": "ipython",
    "version": 3
   },
   "file_extension": ".py",
   "mimetype": "text/x-python",
   "name": "python",
   "nbconvert_exporter": "python",
   "pygments_lexer": "ipython3",
   "version": "3.12.3"
  }
 },
 "nbformat": 4,
 "nbformat_minor": 5
}
